{
  "cells": [
    {
      "cell_type": "markdown",
      "metadata": {
        "id": "fgsjDs-o5cUo"
      },
      "source": [
        "# Import All Dependencies"
      ]
    },
    {
      "cell_type": "code",
      "execution_count": null,
      "metadata": {
        "id": "oUDnMnMxaSPS"
      },
      "outputs": [],
      "source": [
        "import os\n",
        "import numpy as np\n",
        "from PIL import Image"
      ]
    },
    {
      "cell_type": "code",
      "execution_count": null,
      "metadata": {
        "colab": {
          "base_uri": "https://localhost:8080/"
        },
        "id": "EXMp9yjsanH4",
        "outputId": "5ac3bc46-7584-4314-9301-d0f8d9c51817"
      },
      "outputs": [
        {
          "name": "stdout",
          "output_type": "stream",
          "text": [
            "Mounted at /content/drive\n"
          ]
        }
      ],
      "source": [
        "from google.colab import drive\n",
        "drive.mount('/content/drive')"
      ]
    },
    {
      "cell_type": "markdown",
      "metadata": {},
      "source": [
        "[Dataset](https://drive.google.com/drive/folders/18xNo8JsFSIKO4ccCtwDAQQIrGv6DXSKj?usp=sharing) that we use commonly divided into three parts, there are\n",
        "\n",
        "1. Validation\n",
        "2. Train\n",
        "3. Test"
      ]
    },
    {
      "cell_type": "markdown",
      "metadata": {
        "id": "Xrru9ftg5f-E"
      },
      "source": [
        "#Define The Directories"
      ]
    },
    {
      "cell_type": "code",
      "execution_count": null,
      "metadata": {
        "id": "Tcpx1yQHavsi"
      },
      "outputs": [],
      "source": [
        "train_dir = \"/content/drive/Shareddrives/Capstone Project/Dataset/train/\"\n",
        "validation_dir = \"/content/drive/Shareddrives/Capstone Project/Dataset/validation/\"\n",
        "test_dir = \"/content/drive/Shareddrives/Capstone Project/Dataset/test/\"\n",
        "\n",
        "train_dadar_gulung_dir = os.path.join(train_dir, \"kue_dadar_gulung/\")\n",
        "train_kastengel_dir = os.path.join(train_dir, \"kue_kastengel/\")\n",
        "train_klepon_dir = os.path.join(train_dir, \"kue_klepon/\")\n",
        "train_lapis_dir = os.path.join(train_dir, \"kue_lapis/\")\n",
        "train_lumpur_dir = os.path.join(train_dir, \"kue_lumpur/\")\n",
        "train_putri_salju_dir = os.path.join(train_dir, \"kue_putri_salju/\")\n",
        "train_risoles_dir = os.path.join(train_dir, \"kue_risoles/\")\n",
        "train_serabi_dir = os.path.join(train_dir, \"kue_serabi/\")\n",
        "train_pastel_dir = os.path.join(train_dir, 'kue_pastel/')\n",
        "train_lemper_dir = os.path.join(train_dir, 'kue_lemper/')\n",
        "train_putu_ayu_dir = os.path.join(train_dir, 'kue_putu_ayu/')\n",
        "train_nagasari_dir = os.path.join(train_dir, 'kue_nagasari/')\n",
        "train_ape_dir = os.path.join(train_dir,'kue_ape/')\n",
        "train_gethuk_dir = os.path.join(train_dir, 'kue_gethuk_lindri/')\n",
        "train_cenil_dir = os.path.join(train_dir, 'kue_cenil/')\n",
        "train_bika_ambon_dir = os.path.join(train_dir, 'kue_bika_ambon/')\n",
        "\n",
        "val_dadar_gulung_dir = os.path.join(validation_dir, \"kue_dadar_gulung/\")\n",
        "val_kastengel_dir = os.path.join(validation_dir, \"kue_kastengel/\")\n",
        "val_klepon_dir = os.path.join(validation_dir, \"kue_klepon/\")\n",
        "val_lapis_dir = os.path.join(validation_dir, \"kue_lapis/\")\n",
        "val_lumpur_dir = os.path.join(validation_dir, \"kue_lumpur/\")\n",
        "val_putri_salju_dir = os.path.join(validation_dir, \"kue_putri_salju/\")\n",
        "val_risoles_dir = os.path.join(validation_dir, \"kue_risoles/\")\n",
        "val_serabi_dir = os.path.join(validation_dir, \"kue_serabi/\")\n",
        "val_pastel_dir = os.path.join(validation_dir, 'kue_pastel/')\n",
        "val_lemper_dir = os.path.join(validation_dir, 'kue_lemper/')\n",
        "val_putu_ayu_dir = os.path.join(validation_dir, 'kue_putu_ayu/')\n",
        "val_nagasari_dir = os.path.join(validation_dir, 'kue_nagasari/')\n",
        "val_ape_dir = os.path.join(validation_dir,'kue_ape/')\n",
        "val_gethuk_dir = os.path.join(validation_dir, 'kue_gethuk_lindri/')\n",
        "val_cenil_dir = os.path.join(validation_dir, 'kue_cenil/')\n",
        "val_bika_ambon_dir = os.path.join(validation_dir, 'kue_bika_ambon/')\n",
        "\n",
        "test_dadar_gulung_dir = os.path.join(test_dir, \"kue_dadar_gulung/\")\n",
        "test_kastengel_dir = os.path.join(test_dir, \"kue_kastengel/\")\n",
        "test_klepon_dir = os.path.join(test_dir, \"kue_klepon/\")\n",
        "test_lapis_dir = os.path.join(test_dir, \"kue_lapis/\")\n",
        "test_lumpur_dir = os.path.join(test_dir, \"kue_lumpur/\")\n",
        "test_putri_salju_dir = os.path.join(test_dir, \"kue_putri_salju/\")\n",
        "test_risoles_dir = os.path.join(test_dir, \"kue_risoles/\")\n",
        "test_serabi_dir = os.path.join(test_dir, \"kue_serabi/\")\n",
        "test_pastel_dir = os.path.join(test_dir, 'kue_pastel/')\n",
        "test_lemper_dir = os.path.join(test_dir, 'kue_lemper/')\n",
        "test_putu_ayu_dir = os.path.join(test_dir, 'kue_putu_ayu/')\n",
        "test_nagasari_dir = os.path.join(test_dir, 'kue_nagasari/')\n",
        "test_ape_dir = os.path.join(test_dir,'kue_ape/')\n",
        "test_gethuk_dir = os.path.join(test_dir, 'kue_gethuk_lindri/')\n",
        "test_cenil_dir = os.path.join(test_dir, 'kue_cenil/')\n",
        "test_bika_ambon_dir = os.path.join(test_dir, 'kue_bika_ambon/')"
      ]
    },
    {
      "cell_type": "markdown",
      "metadata": {
        "id": "sDzH8gfA5m47"
      },
      "source": [
        "# Make a New Directories For Result"
      ]
    },
    {
      "cell_type": "code",
      "execution_count": null,
      "metadata": {
        "id": "LcXy8jNlj1ri"
      },
      "outputs": [],
      "source": [
        "os.makedirs (\"/content/drive/Shareddrives/Capstone Project/Machine Learning/dataset_resized/train/kue_dadar_gulung/\")\n",
        "os.makedirs (\"/content/drive/Shareddrives/Capstone Project/Machine Learning/dataset_resized/train/kue_kastengel/\")\n",
        "os.makedirs (\"/content/drive/Shareddrives/Capstone Project/Machine Learning/dataset_resized/train/kue_klepon/\")\n",
        "os.makedirs (\"/content/drive/Shareddrives/Capstone Project/Machine Learning/dataset_resized/train/kue_lapis/\")\n",
        "os.makedirs (\"/content/drive/Shareddrives/Capstone Project/Machine Learning/dataset_resized/train/kue_lumpur/\")\n",
        "os.makedirs (\"/content/drive/Shareddrives/Capstone Project/Machine Learning/dataset_resized/train/kue_putri_salju/\")\n",
        "os.makedirs (\"/content/drive/Shareddrives/Capstone Project/Machine Learning/dataset_resized/train/kue_risoles/\")\n",
        "os.makedirs (\"/content/drive/Shareddrives/Capstone Project/Machine Learning/dataset_resized/train/kue_serabi/\")\n",
        "os.makedirs (\"/content/drive/Shareddrives/Capstone Project/Machine Learning/dataset_resized/train/kue_pastel/\")\n",
        "os.makedirs (\"/content/drive/Shareddrives/Capstone Project/Machine Learning/dataset_resized/train/kue_lemper/\")\n",
        "os.makedirs (\"/content/drive/Shareddrives/Capstone Project/Machine Learning/dataset_resized/train/kue_putu_ayu/\")\n",
        "os.makedirs (\"/content/drive/Shareddrives/Capstone Project/Machine Learning/dataset_resized/train/kue_nagasari/\")\n",
        "os.makedirs (\"/content/drive/Shareddrives/Capstone Project/Machine Learning/dataset_resized/train/kue_ape/\")\n",
        "os.makedirs (\"/content/drive/Shareddrives/Capstone Project/Machine Learning/dataset_resized/train/kue_gethuk_lindri/\")\n",
        "os.makedirs (\"/content/drive/Shareddrives/Capstone Project/Machine Learning/dataset_resized/train/kue_cenil/\")\n",
        "os.makedirs (\"/content/drive/Shareddrives/Capstone Project/Machine Learning/dataset_resized/train/kue_bika_ambon/\")\n",
        "\n",
        "os.makedirs (\"/content/drive/Shareddrives/Capstone Project/Machine Learning/dataset_resized/test/kue_dadar_gulung/\")\n",
        "os.makedirs (\"/content/drive/Shareddrives/Capstone Project/Machine Learning/dataset_resized/test/kue_kastengel/\")\n",
        "os.makedirs (\"/content/drive/Shareddrives/Capstone Project/Machine Learning/dataset_resized/test/kue_klepon/\")\n",
        "os.makedirs (\"/content/drive/Shareddrives/Capstone Project/Machine Learning/dataset_resized/test/kue_lapis/\")\n",
        "os.makedirs (\"/content/drive/Shareddrives/Capstone Project/Machine Learning/dataset_resized/test/kue_lumpur/\")\n",
        "os.makedirs (\"/content/drive/Shareddrives/Capstone Project/Machine Learning/dataset_resized/test/kue_putri_salju/\")\n",
        "os.makedirs (\"/content/drive/Shareddrives/Capstone Project/Machine Learning/dataset_resized/test/kue_risoles/\")\n",
        "os.makedirs (\"/content/drive/Shareddrives/Capstone Project/Machine Learning/dataset_resized/test/kue_serabi/\")\n",
        "os.makedirs (\"/content/drive/Shareddrives/Capstone Project/Machine Learning/dataset_resized/test/kue_pastel/\")\n",
        "os.makedirs (\"/content/drive/Shareddrives/Capstone Project/Machine Learning/dataset_resized/test/kue_lemper/\")\n",
        "os.makedirs (\"/content/drive/Shareddrives/Capstone Project/Machine Learning/dataset_resized/test/kue_putu_ayu/\")\n",
        "os.makedirs (\"/content/drive/Shareddrives/Capstone Project/Machine Learning/dataset_resized/test/kue_nagasari/\")\n",
        "os.makedirs (\"/content/drive/Shareddrives/Capstone Project/Machine Learning/dataset_resized/test/kue_ape/\")\n",
        "os.makedirs (\"/content/drive/Shareddrives/Capstone Project/Machine Learning/dataset_resized/test/kue_gethuk_lindri/\")\n",
        "os.makedirs (\"/content/drive/Shareddrives/Capstone Project/Machine Learning/dataset_resized/test/kue_cenil/\")\n",
        "os.makedirs (\"/content/drive/Shareddrives/Capstone Project/Machine Learning/dataset_resized/test/kue_bika_ambon/\")\n",
        "\n",
        "os.makedirs (\"/content/drive/Shareddrives/Capstone Project/Machine Learning/dataset_resized/validation/kue_dadar_gulung/\")\n",
        "os.makedirs (\"/content/drive/Shareddrives/Capstone Project/Machine Learning/dataset_resized/validation/kue_kastengel/\")\n",
        "os.makedirs (\"/content/drive/Shareddrives/Capstone Project/Machine Learning/dataset_resized/validation/kue_klepon/\")\n",
        "os.makedirs (\"/content/drive/Shareddrives/Capstone Project/Machine Learning/dataset_resized/validation/kue_lapis/\")\n",
        "os.makedirs (\"/content/drive/Shareddrives/Capstone Project/Machine Learning/dataset_resized/validation/kue_lumpur/\")\n",
        "os.makedirs (\"/content/drive/Shareddrives/Capstone Project/Machine Learning/dataset_resized/validation/kue_putri_salju/\")\n",
        "os.makedirs (\"/content/drive/Shareddrives/Capstone Project/Machine Learning/dataset_resized/validation/kue_risoles/\")\n",
        "os.makedirs (\"/content/drive/Shareddrives/Capstone Project/Machine Learning/dataset_resized/validation/kue_serabi/\")\n",
        "os.makedirs (\"/content/drive/Shareddrives/Capstone Project/Machine Learning/dataset_resized/validation/kue_pastel/\")\n",
        "os.makedirs (\"/content/drive/Shareddrives/Capstone Project/Machine Learning/dataset_resized/validation/kue_lemper/\")\n",
        "os.makedirs (\"/content/drive/Shareddrives/Capstone Project/Machine Learning/dataset_resized/validation/kue_putu_ayu/\")\n",
        "os.makedirs (\"/content/drive/Shareddrives/Capstone Project/Machine Learning/dataset_resized/validation/kue_nagasari/\")\n",
        "os.makedirs (\"/content/drive/Shareddrives/Capstone Project/Machine Learning/dataset_resized/validation/kue_ape/\")\n",
        "os.makedirs (\"/content/drive/Shareddrives/Capstone Project/Machine Learning/dataset_resized/validation/kue_gethuk_lindri/\")\n",
        "os.makedirs (\"/content/drive/Shareddrives/Capstone Project/Machine Learning/dataset_resized/validation/kue_cenil/\")\n",
        "os.makedirs (\"/content/drive/Shareddrives/Capstone Project/Machine Learning/dataset_resized/validation/kue_bika_ambon/\")\n"
      ]
    },
    {
      "cell_type": "markdown",
      "metadata": {
        "id": "46VrIp5t5uFt"
      },
      "source": [
        "# Compress Image"
      ]
    },
    {
      "cell_type": "code",
      "execution_count": null,
      "metadata": {
        "colab": {
          "base_uri": "https://localhost:8080/"
        },
        "id": "U3v5F7kva2RK",
        "outputId": "32af5ce0-3fce-462d-b0f3-bb179c6682f3"
      },
      "outputs": [
        {
          "name": "stderr",
          "output_type": "stream",
          "text": [
            "/usr/local/lib/python3.7/dist-packages/PIL/Image.py:1015: UserWarning: Couldn't allocate palette entry for transparency\n",
            "  warnings.warn(\"Couldn't allocate palette entry for transparency\")\n"
          ]
        }
      ],
      "source": [
        "for file in os.listdir(train_dadar_gulung_dir):\n",
        "  with Image.open(train_dadar_gulung_dir + file) as img:\n",
        "    img.convert(\"RGB\").save('/content/drive/Shareddrives/Capstone Project/Machine Learning/dataset_resized/train/kue_dadar_gulung/'+file, optimize = True, quality = 30)\n",
        "\n",
        "for file in os.listdir(train_kastengel_dir):\n",
        "  with Image.open(train_kastengel_dir + file) as img:\n",
        "    img.convert(\"RGB\").save('/content/drive/Shareddrives/Capstone Project/Machine Learning/dataset_resized/train/kue_kastengel/'+file, optimize = True, quality = 30)\n",
        "\n",
        "for file in os.listdir(train_klepon_dir):\n",
        "  with Image.open(train_klepon_dir + file) as img:\n",
        "    img.convert(\"RGB\").save('/content/drive/Shareddrives/Capstone Project/Machine Learning/dataset_resized/train/kue_klepon/'+file, optimize = True, quality = 30)\n",
        "\n",
        "for file in os.listdir(train_lapis_dir):\n",
        "  with Image.open(train_lapis_dir + file) as img:\n",
        "    img.convert(\"RGB\").save('/content/drive/Shareddrives/Capstone Project/Machine Learning/dataset_resized/train/kue_lapis/'+file, optimize = True, quality = 30)\n",
        "\n",
        "for file in os.listdir(train_lumpur_dir):\n",
        "  with Image.open(train_lumpur_dir + file) as img:\n",
        "    img.convert(\"RGB\").save('/content/drive/Shareddrives/Capstone Project/Machine Learning/dataset_resized/train/kue_lumpur/'+file, optimize = True, quality = 30)\n",
        "\n",
        "for file in os.listdir(train_putri_salju_dir):\n",
        "  with Image.open(train_putri_salju_dir + file) as img:\n",
        "    img.convert(\"RGB\").save('/content/drive/Shareddrives/Capstone Project/Machine Learning/dataset_resized/train/kue_putri_salju/'+file, optimize = True, quality = 30)\n",
        "\n",
        "for file in os.listdir(train_risoles_dir):\n",
        "  with Image.open(train_risoles_dir + file) as img:\n",
        "    img.convert(\"RGB\").save('/content/drive/Shareddrives/Capstone Project/Machine Learning/dataset_resized/train/kue_risoles/'+file, optimize = True, quality = 30)\n",
        "\n",
        "for file in os.listdir(train_serabi_dir):\n",
        "  with Image.open(train_serabi_dir + file) as img:\n",
        "    img.convert(\"RGB\").save('/content/drive/Shareddrives/Capstone Project/Machine Learning/dataset_resized/train/kue_serabi/'+file, optimize = True, quality = 30)\n",
        "\n",
        "for file in os.listdir(train_pastel_dir):\n",
        "  with Image.open(train_pastel_dir + file) as img:\n",
        "    img.convert(\"RGB\").save('/content/drive/Shareddrives/Capstone Project/Machine Learning/dataset_resized/train/kue_pastel/'+file, optimize = True, quality = 30)\n",
        "\n",
        "for file in os.listdir(train_lemper_dir):\n",
        "  with Image.open(train_lemper_dir + file) as img:\n",
        "    img.convert(\"RGB\").save('/content/drive/Shareddrives/Capstone Project/Machine Learning/dataset_resized/train/kue_lemper/'+file, optimize = True, quality = 30)\n",
        "\n",
        "for file in os.listdir(train_putu_ayu_dir):\n",
        "  with Image.open(train_putu_ayu_dir + file) as img:\n",
        "    img.convert(\"RGB\").save('/content/drive/Shareddrives/Capstone Project/Machine Learning/dataset_resized/train/kue_putu_ayu/'+file, optimize = True, quality = 30)\n",
        "\n",
        "for file in os.listdir(train_nagasari_dir):\n",
        "  with Image.open(train_nagasari_dir + file) as img:\n",
        "    img.convert(\"RGB\").save('/content/drive/Shareddrives/Capstone Project/Machine Learning/dataset_resized/train/kue_nagasari/'+file, optimize = True, quality = 30)\n",
        "\n",
        "for file in os.listdir(train_ape_dir):\n",
        "  with Image.open(train_ape_dir + file) as img:\n",
        "    img.convert(\"RGB\").save('/content/drive/Shareddrives/Capstone Project/Machine Learning/dataset_resized/train/kue_ape/'+file, optimize = True, quality = 30)\n",
        "\n",
        "for file in os.listdir(train_gethuk_dir):\n",
        "  with Image.open(train_gethuk_dir + file) as img:\n",
        "    img.convert(\"RGB\").save('/content/drive/Shareddrives/Capstone Project/Machine Learning/dataset_resized/train/kue_gethuk_lindri/'+file, optimize = True, quality = 30)\n",
        "\n",
        "for file in os.listdir(train_cenil_dir):\n",
        "  with Image.open(train_cenil_dir + file) as img:\n",
        "    img.convert(\"RGB\").save('/content/drive/Shareddrives/Capstone Project/Machine Learning/dataset_resized/train/kue_cenil/'+file, optimize = True, quality = 30)\n",
        "\n",
        "for file in os.listdir(train_bika_ambon_dir):\n",
        "  with Image.open(train_bika_ambon_dir + file) as img:\n",
        "    img.convert(\"RGB\").save('/content/drive/Shareddrives/Capstone Project/Machine Learning/dataset_resized/train/kue_bika_ambon/'+file, optimize = True, quality = 30)\n"
      ]
    },
    {
      "cell_type": "code",
      "execution_count": null,
      "metadata": {
        "colab": {
          "base_uri": "https://localhost:8080/"
        },
        "id": "bV_nLwdHneec",
        "outputId": "0dc10dc5-2efb-46ce-e54e-a81a08afe687"
      },
      "outputs": [
        {
          "name": "stderr",
          "output_type": "stream",
          "text": [
            "/usr/local/lib/python3.7/dist-packages/PIL/Image.py:1015: UserWarning: Couldn't allocate palette entry for transparency\n",
            "  warnings.warn(\"Couldn't allocate palette entry for transparency\")\n"
          ]
        }
      ],
      "source": [
        "for file in os.listdir(test_dadar_gulung_dir):\n",
        "  with Image.open(test_dadar_gulung_dir + file) as img:\n",
        "    img.convert(\"RGB\").save('/content/drive/Shareddrives/Capstone Project/Machine Learning/dataset_resized/test/kue_dadar_gulung/'+file, optimize = True, quality = 30)\n",
        "\n",
        "for file in os.listdir(test_kastengel_dir):\n",
        "  with Image.open(test_kastengel_dir + file) as img:\n",
        "    img.convert(\"RGB\").save('/content/drive/Shareddrives/Capstone Project/Machine Learning/dataset_resized/test/kue_kastengel/'+file, optimize = True, quality = 30)\n",
        "\n",
        "for file in os.listdir(test_klepon_dir):\n",
        "  with Image.open(test_klepon_dir + file) as img:\n",
        "    img.convert(\"RGB\").save('/content/drive/Shareddrives/Capstone Project/Machine Learning/dataset_resized/test/kue_klepon/'+file, optimize = True, quality = 30)\n",
        "\n",
        "for file in os.listdir(test_lapis_dir):\n",
        "  with Image.open(test_lapis_dir + file) as img:\n",
        "    img.convert(\"RGB\").save('/content/drive/Shareddrives/Capstone Project/Machine Learning/dataset_resized/test/kue_lapis/'+file, optimize = True, quality = 30)\n",
        "\n",
        "for file in os.listdir(test_lumpur_dir):\n",
        "  with Image.open(test_lumpur_dir + file) as img:\n",
        "    img.convert(\"RGB\").save('/content/drive/Shareddrives/Capstone Project/Machine Learning/dataset_resized/test/kue_lumpur/'+file, optimize = True, quality = 30)\n",
        "\n",
        "for file in os.listdir(test_putri_salju_dir):\n",
        "  with Image.open(test_putri_salju_dir + file) as img:\n",
        "    img.convert(\"RGB\").save('/content/drive/Shareddrives/Capstone Project/Machine Learning/dataset_resized/test/kue_putri_salju/'+file, optimize = True, quality = 30)\n",
        "\n",
        "for file in os.listdir(test_risoles_dir):\n",
        "  with Image.open(test_risoles_dir + file) as img:\n",
        "    img.convert(\"RGB\").save('/content/drive/Shareddrives/Capstone Project/Machine Learning/dataset_resized/test/kue_risoles/'+file, optimize = True, quality = 30)\n",
        "\n",
        "for file in os.listdir(test_serabi_dir):\n",
        "  with Image.open(test_serabi_dir + file) as img:\n",
        "    img.convert(\"RGB\").save('/content/drive/Shareddrives/Capstone Project/Machine Learning/dataset_resized/test/kue_serabi/'+file, optimize = True, quality = 30)\n",
        "\n",
        "for file in os.listdir(test_pastel_dir):\n",
        "  with Image.open(test_pastel_dir + file) as img:\n",
        "    img.convert(\"RGB\").save('/content/drive/Shareddrives/Capstone Project/Machine Learning/dataset_resized/test/kue_pastel/'+file, optimize = True, quality = 30)\n",
        "\n",
        "for file in os.listdir(test_lemper_dir):\n",
        "  with Image.open(test_lemper_dir + file) as img:\n",
        "    img.convert(\"RGB\").save('/content/drive/Shareddrives/Capstone Project/Machine Learning/dataset_resized/test/kue_lemper/'+file, optimize = True, quality = 30)\n",
        "\n",
        "for file in os.listdir(test_putu_ayu_dir):\n",
        "  with Image.open(test_putu_ayu_dir + file) as img:\n",
        "    img.convert(\"RGB\").save('/content/drive/Shareddrives/Capstone Project/Machine Learning/dataset_resized/test/kue_putu_ayu/'+file, optimize = True, quality = 30)\n",
        "\n",
        "for file in os.listdir(test_nagasari_dir):\n",
        "  with Image.open(test_nagasari_dir + file) as img:\n",
        "    img.convert(\"RGB\").save('/content/drive/Shareddrives/Capstone Project/Machine Learning/dataset_resized/test/kue_nagasari/'+file, optimize = True, quality = 30)\n",
        "\n",
        "for file in os.listdir(test_ape_dir):\n",
        "  with Image.open(test_ape_dir + file) as img:\n",
        "    img.convert(\"RGB\").save('/content/drive/Shareddrives/Capstone Project/Machine Learning/dataset_resized/test/kue_ape/'+file, optimize = True, quality = 30)\n",
        "\n",
        "for file in os.listdir(test_gethuk_dir):\n",
        "  with Image.open(test_gethuk_dir + file) as img:\n",
        "    img.convert(\"RGB\").save('/content/drive/Shareddrives/Capstone Project/Machine Learning/dataset_resized/test/kue_gethuk_lindri/'+file, optimize = True, quality = 30)\n",
        "\n",
        "for file in os.listdir(test_cenil_dir):\n",
        "  with Image.open(test_cenil_dir + file) as img:\n",
        "    img.convert(\"RGB\").save('/content/drive/Shareddrives/Capstone Project/Machine Learning/dataset_resized/test/kue_cenil/'+file, optimize = True, quality = 30)\n",
        "\n",
        "for file in os.listdir(test_bika_ambon_dir):\n",
        "  with Image.open(test_bika_ambon_dir + file) as img:\n",
        "    img.convert(\"RGB\").save('/content/drive/Shareddrives/Capstone Project/Machine Learning/dataset_resized/test/kue_bika_ambon/'+file, optimize = True, quality = 30)\n"
      ]
    },
    {
      "cell_type": "code",
      "execution_count": null,
      "metadata": {
        "id": "onalnLJFoaMw"
      },
      "outputs": [],
      "source": [
        "for file in os.listdir(val_dadar_gulung_dir):\n",
        "  with Image.open(val_dadar_gulung_dir + file) as img:\n",
        "    img.convert(\"RGB\").save('/content/drive/Shareddrives/Capstone Project/Machine Learning/dataset_resized/validation/kue_dadar_gulung/'+file, optimize = True, quality = 30)\n",
        "\n",
        "for file in os.listdir(val_kastengel_dir):\n",
        "  with Image.open(val_kastengel_dir + file) as img:\n",
        "    img.convert(\"RGB\").save('/content/drive/Shareddrives/Capstone Project/Machine Learning/dataset_resized/validation/kue_kastengel/'+file, optimize = True, quality = 30)\n",
        "\n",
        "for file in os.listdir(val_klepon_dir):\n",
        "  with Image.open(val_klepon_dir + file) as img:\n",
        "    img.convert(\"RGB\").save('/content/drive/Shareddrives/Capstone Project/Machine Learning/dataset_resized/validation/kue_klepon/'+file, optimize = True, quality = 30)\n",
        "\n",
        "for file in os.listdir(val_lapis_dir):\n",
        "  with Image.open(val_lapis_dir + file) as img:\n",
        "    img.convert(\"RGB\").save('/content/drive/Shareddrives/Capstone Project/Machine Learning/dataset_resized/validation/kue_lapis/'+file, optimize = True, quality = 30)\n",
        "\n",
        "for file in os.listdir(val_lumpur_dir):\n",
        "  with Image.open(val_lumpur_dir + file) as img:\n",
        "    img.convert(\"RGB\").save('/content/drive/Shareddrives/Capstone Project/Machine Learning/dataset_resized/validation/kue_lumpur/'+file, optimize = True, quality = 30)\n",
        "\n",
        "for file in os.listdir(val_putri_salju_dir):\n",
        "  with Image.open(val_putri_salju_dir + file) as img:\n",
        "    img.convert(\"RGB\").save('/content/drive/Shareddrives/Capstone Project/Machine Learning/dataset_resized/validation/kue_putri_salju/'+file, optimize = True, quality = 30)\n",
        "\n",
        "for file in os.listdir(val_risoles_dir):\n",
        "  with Image.open(val_risoles_dir + file) as img:\n",
        "    img.convert(\"RGB\").save('/content/drive/Shareddrives/Capstone Project/Machine Learning/dataset_resized/validation/kue_risoles/'+file, optimize = True, quality = 30)\n",
        "\n",
        "for file in os.listdir(val_serabi_dir):\n",
        "  with Image.open(val_serabi_dir + file) as img:\n",
        "    img.convert(\"RGB\").save('/content/drive/Shareddrives/Capstone Project/Machine Learning/dataset_resized/validation/kue_serabi/'+file, optimize = True, quality = 30)\n",
        "\n",
        "for file in os.listdir(val_pastel_dir):\n",
        "  with Image.open(val_pastel_dir + file) as img:\n",
        "    img.convert(\"RGB\").save('/content/drive/Shareddrives/Capstone Project/Machine Learning/dataset_resized/validation/kue_pastel/'+file, optimize = True, quality = 30)\n",
        "\n",
        "for file in os.listdir(val_lemper_dir):\n",
        "  with Image.open(val_lemper_dir + file) as img:\n",
        "    img.convert(\"RGB\").save('/content/drive/Shareddrives/Capstone Project/Machine Learning/dataset_resized/validation/kue_lemper/'+file, optimize = True, quality = 30)\n",
        "\n",
        "for file in os.listdir(val_putu_ayu_dir):\n",
        "  with Image.open(val_putu_ayu_dir + file) as img:\n",
        "    img.convert(\"RGB\").save('/content/drive/Shareddrives/Capstone Project/Machine Learning/dataset_resized/validation/kue_putu_ayu/'+file, optimize = True, quality = 30)\n",
        "\n",
        "for file in os.listdir(val_nagasari_dir):\n",
        "  with Image.open(val_nagasari_dir + file) as img:\n",
        "    img.convert(\"RGB\").save('/content/drive/Shareddrives/Capstone Project/Machine Learning/dataset_resized/validation/kue_nagasari/'+file, optimize = True, quality = 30)\n",
        "\n",
        "for file in os.listdir(val_ape_dir):\n",
        "  with Image.open(val_ape_dir + file) as img:\n",
        "    img.convert(\"RGB\").save('/content/drive/Shareddrives/Capstone Project/Machine Learning/dataset_resized/validation/kue_ape/'+file, optimize = True, quality = 30)\n",
        "\n",
        "for file in os.listdir(val_gethuk_dir):\n",
        "  with Image.open(val_gethuk_dir + file) as img:\n",
        "    img.convert(\"RGB\").save('/content/drive/Shareddrives/Capstone Project/Machine Learning/dataset_resized/validation/kue_gethuk_lindri/'+file, optimize = True, quality = 30)\n",
        "\n",
        "for file in os.listdir(val_cenil_dir):\n",
        "  with Image.open(val_cenil_dir + file) as img:\n",
        "    img.convert(\"RGB\").save('/content/drive/Shareddrives/Capstone Project/Machine Learning/dataset_resized/validation/kue_cenil/'+file, optimize = True, quality = 30)\n",
        "\n",
        "for file in os.listdir(val_bika_ambon_dir):\n",
        "  with Image.open(val_bika_ambon_dir + file) as img:\n",
        "    img.convert(\"RGB\").save('/content/drive/Shareddrives/Capstone Project/Machine Learning/dataset_resized/validation/kue_bika_ambon/'+file, optimize = True, quality = 30)\n"
      ]
    }
  ],
  "metadata": {
    "colab": {
      "collapsed_sections": [],
      "name": "Compress Image",
      "provenance": []
    },
    "kernelspec": {
      "display_name": "Python 3",
      "name": "python3"
    },
    "language_info": {
      "name": "python"
    }
  },
  "nbformat": 4,
  "nbformat_minor": 0
}
